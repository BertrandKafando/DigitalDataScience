{
 "cells": [
  {
   "cell_type": "code",
   "execution_count": 1,
   "id": "c8c4584a",
   "metadata": {},
   "outputs": [],
   "source": [
    "\"\"\"\n",
    "Ce TP présente ce qu’est une Descente de Gradient (DG). La DG s’applique lorsque\n",
    "l’on cherche le minimum d’une fonction dont on connaît l’expression analytique, qui est\n",
    "dérivable, mais dont le calcul direct du minimum est difficile. C’est un algorithme fonda-\n",
    "mental à connaître car utilisé partout sous des formes dérivées. Nous n’étudions ici que la\n",
    "version de base.\n",
    "\"\"\""
   ]
  },
  {
   "cell_type": "code",
   "execution_count": 2,
   "id": "aef377ab",
   "metadata": {},
   "outputs": [
    {
     "name": "stdout",
     "output_type": "stream",
     "text": [
      "Requirement already satisfied: sympy in c:\\users\\kafan\\appdata\\local\\programs\\python\\python39\\lib\\site-packages (1.12)\n",
      "Requirement already satisfied: mpmath>=0.19 in c:\\users\\kafan\\appdata\\local\\programs\\python\\python39\\lib\\site-packages (from sympy) (1.3.0)\n"
     ]
    },
    {
     "name": "stderr",
     "output_type": "stream",
     "text": [
      "\n",
      "[notice] A new release of pip is available: 23.1.2 -> 23.3.1\n",
      "[notice] To update, run: python.exe -m pip install --upgrade pip\n"
     ]
    }
   ],
   "source": [
    "#>Descente de gradient\n",
    "!pip install sympy\n"
   ]
  },
  {
   "cell_type": "code",
   "execution_count": 1,
   "id": "96166888",
   "metadata": {},
   "outputs": [],
   "source": [
    "import sympy as sp\n",
    "import matplotlib.pyplot as plt"
   ]
  },
  {
   "cell_type": "code",
   "execution_count": 2,
   "id": "fd5fc4cc",
   "metadata": {},
   "outputs": [],
   "source": [
    "#1. Calculez l’expression analytique de la fonction E(x) = (x − 1)(x − 2)(x − 3)(x − 5) et sa dérivée\n",
    "# Expression analytique E(x) = E(x) = x^4 - 11x^3 + 41x^2 - 61x + 30\n",
    "#E(x)  = x**4 - 11*x**3 + 41*x**2 - 61*x + 30\n",
    "# La derivée\n",
    "#E'(x) =  4*x**3 - 33*x**2 + 82*x - 61"
   ]
  },
  {
   "cell_type": "code",
   "execution_count": 3,
   "id": "eb56bbd5",
   "metadata": {},
   "outputs": [
    {
     "name": "stdout",
     "output_type": "stream",
     "text": [
      "E(x) = x**4 - 11*x**3 + 41*x**2 - 61*x + 30\n",
      "E'(x) = 4*x**3 - 33*x**2 + 82*x - 61\n"
     ]
    }
   ],
   "source": [
    "\n",
    "# Définir la variable symbolique x\n",
    "x = sp.symbols('x')\n",
    "\n",
    "# Définir la fonction E(x)\n",
    "E = x**4 - 11*x**3 + 41*x**2 - 61*x + 30\n",
    "\n",
    "# Calculer la dérivée de E(x)\n",
    "E_prime = sp.diff(E, x)\n",
    "\n",
    "# Afficher E(x) et E'(x)\n",
    "print(\"E(x) =\", E)\n",
    "print(\"E'(x) =\", E_prime)"
   ]
  },
  {
   "cell_type": "code",
   "execution_count": 4,
   "id": "11b5b8f7",
   "metadata": {},
   "outputs": [],
   "source": [
    "# 2. Implémentez l’algorithme DG sous Python pour la fonction E(x)"
   ]
  },
  {
   "cell_type": "code",
   "execution_count": 11,
   "id": "b5bc55da",
   "metadata": {},
   "outputs": [],
   "source": [
    "def deriv_E(x):\n",
    "    return 4*x**3 - 33*x**2 + 82*x - 61\n",
    "\n",
    "\n",
    "\n",
    "# Fonction de descente de gradient\n",
    "def gradient_descente(learning_rate, max_iterations, tolerance,x0):\n",
    "    x_values = [x0]  # Initialisation de la liste de valeurs de x\n",
    "    it = 0\n",
    "    erreurs = []\n",
    "    while it < max_iterations-1:\n",
    "        current_x = x_values[-1]\n",
    "        gradient = deriv_E(current_x) # Calculer le gradient à l'emplacement actuel\n",
    "        new_x = current_x - learning_rate * gradient  # Mettre à jour x en utilisant le gradient\n",
    "        \n",
    "        erreurs.append(new_x - current_x)\n",
    "        # Vérifier la condition d'arrêt\n",
    "        if abs(new_x - current_x) < tolerance:\n",
    "            break\n",
    "        \n",
    "        x_values.append(new_x)\n",
    "        it += 1\n",
    "    \n",
    "    return x_values,erreurs\n",
    "\n",
    "\n",
    "\n",
    "\n",
    "        "
   ]
  },
  {
   "cell_type": "code",
   "execution_count": 12,
   "id": "4fd024fb",
   "metadata": {},
   "outputs": [],
   "source": [
    "#3. Pour comprendre ce que fait effectivement la DG, testez l’algorithme implémenté en utilisant des exemples d’exécutions avec des valeurs initiales de x0 et η suivantes :"
   ]
  },
  {
   "cell_type": "code",
   "execution_count": 13,
   "id": "46c781a8",
   "metadata": {},
   "outputs": [
    {
     "name": "stdout",
     "output_type": "stream",
     "text": [
      "\n",
      "Nombre d'itérations : 22\n",
      "\n",
      "Valeur de E(x) au minimum : 4.671161102568805\n",
      "\n",
      "Valeur de E'(xmin)  : 9.677786882487453\n"
     ]
    }
   ],
   "source": [
    "#(a) x0 = 5 et η = 0.001\n",
    "learning_rate = 0.001\n",
    "max_iterations = 1000\n",
    "tolerance = 0.01\n",
    "x0 = 5\n",
    "\n",
    "result_a,erreurs_a = gradient_descente(learning_rate, max_iterations, tolerance,x0)\n",
    "\n",
    "# Imprimer les résultats\n",
    "#print(\"Valeurs de x après la descente de gradient :\", result)\n",
    "print(\"\\nNombre d'itérations :\", len(result_a))\n",
    "#print(\"\\nles erreurs :\",erreurs_a)\n",
    "\n",
    "print(\"\\nValeur de E(x) au minimum :\",  result_a[-1])\n",
    "print(\"\\nValeur de E'(xmin)  :\",  deriv_E(result_a[-1]))"
   ]
  },
  {
   "cell_type": "code",
   "execution_count": 14,
   "id": "e6930339",
   "metadata": {},
   "outputs": [
    {
     "name": "stdout",
     "output_type": "stream",
     "text": [
      "\n",
      "Nombre d'itérations : 10\n",
      "\n",
      "Valeur de E(x) au minimum : 4.3707371747511905\n",
      "\n",
      "Valeur de E'(xmin)  : 0.9728879837471709\n"
     ]
    }
   ],
   "source": [
    "#(b) x0 = 5 et η = 0.01\n",
    "learning_rate = 0.01\n",
    "max_iterations = 1000\n",
    "tolerance = 0.01\n",
    "x0 = 5\n",
    "\n",
    "result_b,erreurs_b = gradient_descente(learning_rate, max_iterations, tolerance,x0)\n",
    "\n",
    "# Imprimer les résultats\n",
    "#print(\"Valeurs de x après la descente de gradient :\", result)\n",
    "print(\"\\nNombre d'itérations :\", len(result_b))\n",
    "#print(\"\\nles erreurs :\",erreurs_b)\n",
    "\n",
    "print(\"\\nValeur de E(x) au minimum :\",  result_b[-1])\n",
    "print(\"\\nValeur de E'(xmin)  :\",  deriv_E(result_b[-1]))"
   ]
  },
  {
   "cell_type": "code",
   "execution_count": 15,
   "id": "56bd1d00",
   "metadata": {},
   "outputs": [
    {
     "name": "stdout",
     "output_type": "stream",
     "text": [
      "\n",
      "Nombre d'itérations : 1000\n",
      "\n",
      "Valeur de E(x) au minimum : 4.483002473055202\n",
      "\n",
      "Valeur de E'(xmin)  : 3.780116836488048\n"
     ]
    }
   ],
   "source": [
    "#c) x0 = 5 et η = 0.1\n",
    "learning_rate = 0.1\n",
    "max_iterations = 1000\n",
    "tolerance = 0.01\n",
    "x0 = 5\n",
    "\n",
    "result_c,erreurs_c = gradient_descente(learning_rate, max_iterations, tolerance,x0)\n",
    "\n",
    "# Imprimer les résultats\n",
    "#print(\"Valeurs de x après la descente de gradient :\", result)\n",
    "print(\"\\nNombre d'itérations :\", len(result_c))\n",
    "#print(\"\\nles erreurs :\",erreurs_c)\n",
    "\n",
    "print(\"\\nValeur de E(x) au minimum :\",  result_c[-1])\n",
    "print(\"\\nValeur de E'(xmin)  :\",  deriv_E(result_c[-1]))"
   ]
  },
  {
   "cell_type": "code",
   "execution_count": 16,
   "id": "2b157193",
   "metadata": {},
   "outputs": [
    {
     "name": "stdout",
     "output_type": "stream",
     "text": [
      "\n",
      "Nombre d'itérations : 1000\n",
      "\n",
      "Valeur de E(x) au minimum : 1.2378980211216377\n",
      "\n",
      "Valeur de E'(xmin)  : -2.473504446321307\n"
     ]
    }
   ],
   "source": [
    "#(d) x0 = 5 et η = 0.17\n",
    "learning_rate = 0.17\n",
    "max_iterations = 1000\n",
    "tolerance = 0.01\n",
    "x0 = 5\n",
    "\n",
    "result_d,erreurs_d = gradient_descente(learning_rate, max_iterations, tolerance,x0)\n",
    "\n",
    "# Imprimer les résultats\n",
    "#print(\"Valeurs de x après la descente de gradient :\", result)\n",
    "print(\"\\nNombre d'itérations :\", len(result_d))\n",
    "#print(\"\\nles erreurs :\",erreurs)\n",
    "\n",
    "print(\"\\nValeur de E(x) au minimum :\",  result_d[-1])\n",
    "print(\"\\nValeur de E'(xmin)  :\",  deriv_E(result_d[-1]))"
   ]
  },
  {
   "cell_type": "code",
   "execution_count": 17,
   "id": "d1811834",
   "metadata": {},
   "outputs": [
    {
     "name": "stdout",
     "output_type": "stream",
     "text": [
      "\n",
      "Nombre d'itérations : 1000\n",
      "\n",
      "Valeur de E(x) au minimum : 1.2378980211216377\n",
      "\n",
      "Valeur de E'(xmin)  : -2.473504446321307\n"
     ]
    }
   ],
   "source": [
    "# (e) x0 = 5 et η = 1\n",
    "#learning_rate = 1\n",
    "max_iterations = 1000\n",
    "tolerance = 0.01\n",
    "x0 = 5\n",
    "\n",
    "result_e,erreurs_e = gradient_descente(learning_rate, max_iterations, tolerance,x0)\n",
    "\n",
    "# Imprimer les résultats\n",
    "#print(\"Valeurs de x après la descente de gradient :\", result)\n",
    "print(\"\\nNombre d'itérations :\", len(result_e))\n",
    "#print(\"\\nles erreurs :\",erreurs)\n",
    "\n",
    "print(\"\\nValeur de E(x) au minimum :\",  result_e[-1])\n",
    "print(\"\\nValeur de E'(xmin)  :\",  deriv_E(result_e[-1]))"
   ]
  },
  {
   "cell_type": "code",
   "execution_count": 18,
   "id": "3c9dcefa",
   "metadata": {},
   "outputs": [
    {
     "name": "stdout",
     "output_type": "stream",
     "text": [
      "\n",
      "Nombre d'itérations : 39\n",
      "\n",
      "Valeur de E(x) au minimum : 0.93963963741605\n",
      "\n",
      "Valeur de E'(xmin)  : -9.767480654498051\n"
     ]
    }
   ],
   "source": [
    "#(f) x0 = 0 et η = 0.001\n",
    "learning_rate = 0.001\n",
    "max_iterations = 1000\n",
    "tolerance = 0.01\n",
    "x0 = 0\n",
    "\n",
    "result_f,erreurs_f = gradient_descente(learning_rate, max_iterations, tolerance,x0)\n",
    "\n",
    "# Imprimer les résultats\n",
    "#print(\"Valeurs de x après la descente de gradient :\", result)\n",
    "print(\"\\nNombre d'itérations :\", len(result_f))\n",
    "#print(\"\\nles erreurs :\",erreurs)\n",
    "\n",
    "print(\"\\nValeur de E(x) au minimum :\",  result_f[-1])\n",
    "print(\"\\nValeur de E'(xmin)  :\",  deriv_E(result_f[-1]))"
   ]
  },
  {
   "cell_type": "code",
   "execution_count": 21,
   "id": "bd4644bf",
   "metadata": {},
   "outputs": [
    {
     "data": {
      "image/png": "[encoded data removed]",
      "text/plain": [
       "<Figure size 1200x800 with 6 Axes>"
      ]
     },
     "metadata": {},
     "output_type": "display_data"
    }
   ],
   "source": [
    "# 5. Visualisez l’évolution des minimums de la fonction E(x) trouvés au cours des itérations.\n",
    "\n",
    "fig, axes = plt.subplots(2, 3,figsize=(12, 8))\n",
    "ax1 =axes[0,0]; ax2 =axes[0,1];ax3=axes[0,2]\n",
    "ax4 =axes[1,0];ax5=axes[1,1];ax6=axes[1,2]\n",
    "ax1.plot(result_a)\n",
    "ax1.set_xlabel('Iterations a')\n",
    "ax1.set_ylabel('Résultats a')\n",
    "\n",
    "ax2.plot(result_b)\n",
    "ax2.set_xlabel('Iterations b')\n",
    "ax2.set_ylabel('Résultats b')\n",
    "\n",
    "\n",
    "plt.show()"
   ]
  },
  {
   "cell_type": "code",
   "execution_count": null,
   "id": "e4d473d0",
   "metadata": {},
   "outputs": [],
   "source": [
    "\n"
   ]
  },
  {
   "cell_type": "code",
   "execution_count": null,
   "id": "370227e1",
   "metadata": {},
   "outputs": [],
   "source": []
  }
 ],
 "metadata": {
  "kernelspec": {
   "display_name": "Python 3 (ipykernel)",
   "language": "python",
   "name": "python3"
  },
  "language_info": {
   "codemirror_mode": {
    "name": "ipython",
    "version": 3
   },
   "file_extension": ".py",
   "mimetype": "text/x-python",
   "name": "python",
   "nbconvert_exporter": "python",
   "pygments_lexer": "ipython3",
   "version": "3.9.6"
  }
 },
 "nbformat": 4,
 "nbformat_minor": 5
}
